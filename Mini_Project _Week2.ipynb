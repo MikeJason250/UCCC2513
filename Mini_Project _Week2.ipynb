{
 "cells": [
  {
   "cell_type": "markdown",
   "id": "3ee3102d",
   "metadata": {},
   "source": [
    "# Tutorial week 2\n",
    "\n",
    "Learning outcomes:\n",
    "1. Python fundamentals\n",
    "    * Basic syntax\n",
    "    * Data types\n",
    "    * Data structures\n",
    "    * Custom function\n",
    "    * `Numpy` and `matplotlib` modules\n",
    "3. Familiar with the creation of custom images."
   ]
  },
  {
   "cell_type": "markdown",
   "id": "1a5d8775",
   "metadata": {},
   "source": [
    "## Python fundamentals\n",
    "\n",
    "### Basic syntax"
   ]
  },
  {
   "cell_type": "code",
   "execution_count": 1,
   "id": "dc6957b6",
   "metadata": {},
   "outputs": [
    {
     "name": "stdout",
     "output_type": "stream",
     "text": [
      "Hello World!\n"
     ]
    }
   ],
   "source": [
    "print(\"Hello World!\")\n",
    "# You can comment in codeblock using # at the front"
   ]
  },
  {
   "cell_type": "markdown",
   "id": "ce9161ab",
   "metadata": {},
   "source": [
    "### Data types\n",
    "* floating point numbers, e.g. `float32` and `float64`.\n",
    "* complex number\n",
    "* string\n",
    "* integer\n",
    "* bytes\n",
    "* boolean\n",
    "\n",
    "| Class | Basic Types |\n",
    "| ------- | --------- |\n",
    "| `int` | Integer |\n",
    "| `float` | floating point number |\n",
    "| `complex` | Complex number |\n",
    "| `str` | string or character |\n",
    "| `bytes`, `bytearray` | bytes |\n",
    "| `bool` | Boolean |"
   ]
  },
  {
   "cell_type": "code",
   "execution_count": 2,
   "id": "aa85bb5f",
   "metadata": {},
   "outputs": [
    {
     "name": "stdout",
     "output_type": "stream",
     "text": [
      "<class 'int'>\n",
      "<class 'float'>\n",
      "<class 'complex'>\n",
      "<class 'str'>\n",
      "<class 'float'>\n"
     ]
    }
   ],
   "source": [
    "import math \n",
    "\n",
    "x = 5\n",
    "y = 7.1\n",
    "z = 1j\n",
    "z1 = \"I am human\"\n",
    "\n",
    "print(type(x))\n",
    "print(type(y))\n",
    "print(type(z))\n",
    "print(type(z1))\n",
    "print(type(math.pi))"
   ]
  },
  {
   "cell_type": "code",
   "execution_count": 3,
   "id": "4314cd73",
   "metadata": {},
   "outputs": [
    {
     "name": "stdout",
     "output_type": "stream",
     "text": [
      "0\n",
      "7.6\n"
     ]
    }
   ],
   "source": [
    "# We can do casting, specify the data type by these syntax, float(), int() and str()\n",
    "y = 8 / 10\n",
    "z = \"7.6\"\n",
    "\n",
    "print(int(y))\n",
    "print(float(z))"
   ]
  },
  {
   "cell_type": "markdown",
   "id": "deeaf4ef",
   "metadata": {},
   "source": [
    "### Data structures (native to Python)\n",
    "\n",
    "#### List and tuple\n",
    "List and tuple are both variables that can store multiple items. The major differences between the 2 are:\n",
    "* Elements in list is enclosed with square brackets, while tuple is written with parentheses.\n",
    "* List is changeable, while tuple is unchangeable."
   ]
  },
  {
   "cell_type": "code",
   "execution_count": 4,
   "id": "80e9c28a",
   "metadata": {},
   "outputs": [
    {
     "name": "stdout",
     "output_type": "stream",
     "text": [
      "['a', 'b', 'c']\n",
      "('a', 'b', 'c')\n"
     ]
    }
   ],
   "source": [
    "mylist = [\"a\", \"b\", \"c\"]\n",
    "print(mylist)\n",
    "\n",
    "mytuple = (\"a\", \"b\", \"c\")\n",
    "print(mytuple)"
   ]
  },
  {
   "cell_type": "code",
   "execution_count": 5,
   "id": "cb5d9b42",
   "metadata": {},
   "outputs": [
    {
     "name": "stdout",
     "output_type": "stream",
     "text": [
      "[1, 'b', 'c']\n"
     ]
    }
   ],
   "source": [
    "mylist[0] = 1\n",
    "print(mylist)"
   ]
  },
  {
   "cell_type": "code",
   "execution_count": 6,
   "id": "8cf0341f",
   "metadata": {},
   "outputs": [
    {
     "name": "stdout",
     "output_type": "stream",
     "text": [
      "Tuple is immutable\n"
     ]
    }
   ],
   "source": [
    "try:\n",
    "    mytuple[0] = 1\n",
    "except:\n",
    "    print(\"Tuple is immutable\")\n",
    "    \n",
    "#alternate 'except Exception as e: print(e)'\n",
    "#beware of indentation and capslock"
   ]
  },
  {
   "cell_type": "markdown",
   "id": "d7929cf7-c996-48ed-ad7b-04392cc27566",
   "metadata": {},
   "source": [
    "#### dictionary\n",
    "Dictionary are used to stire data values in key:value pairs. "
   ]
  },
  {
   "cell_type": "code",
   "execution_count": 7,
   "id": "a7565846-3e7d-47ef-89db-7c11f3b895b8",
   "metadata": {},
   "outputs": [
    {
     "name": "stdout",
     "output_type": "stream",
     "text": [
      "{'brand': 'Proton', 'model': 'Saga', 'year': 2022}\n"
     ]
    }
   ],
   "source": [
    "car = {\n",
    "    \"brand\": \"Proton\",\n",
    "    \"model\": \"Saga\",\n",
    "    \"year\": 2022\n",
    "}\n",
    "print(car)"
   ]
  },
  {
   "cell_type": "code",
   "execution_count": 8,
   "id": "06ef6eeb-2335-485d-9d40-3f4ea728955a",
   "metadata": {},
   "outputs": [
    {
     "name": "stdout",
     "output_type": "stream",
     "text": [
      "2022\n",
      "Saga\n"
     ]
    }
   ],
   "source": [
    "# access values in dictionary\n",
    "print(car[\"year\"])\n",
    "print(car.get(\"model\"))"
   ]
  },
  {
   "cell_type": "code",
   "execution_count": 9,
   "id": "e5680994-f5cb-4052-bbc8-a23d8c00057d",
   "metadata": {},
   "outputs": [
    {
     "name": "stdout",
     "output_type": "stream",
     "text": [
      "dict_keys(['brand', 'model', 'year'])\n",
      "dict_values(['Proton', 'Saga', 2022])\n",
      "dict_items([('brand', 'Proton'), ('model', 'Saga'), ('year', 2022)])\n"
     ]
    }
   ],
   "source": [
    "# keys, values and items\n",
    "print(car.keys())\n",
    "print(car.values())\n",
    "print(car.items())"
   ]
  },
  {
   "cell_type": "code",
   "execution_count": 10,
   "id": "fe99e003-d9f5-4e2a-82ef-9935709e6a76",
   "metadata": {},
   "outputs": [
    {
     "name": "stdout",
     "output_type": "stream",
     "text": [
      "Persona\n"
     ]
    }
   ],
   "source": [
    "# change the values of key\n",
    "car[\"model\"] = \"Persona\"\n",
    "print(car.get(\"model\"))\n"
   ]
  },
  {
   "cell_type": "code",
   "execution_count": 11,
   "id": "e185d754",
   "metadata": {},
   "outputs": [
    {
     "data": {
      "text/plain": [
       "'no key'"
      ]
     },
     "execution_count": 11,
     "metadata": {},
     "output_type": "execute_result"
    }
   ],
   "source": [
    "#get extra advantage\n",
    "car.get(\"manufacturer\", \"no key\")"
   ]
  },
  {
   "cell_type": "code",
   "execution_count": null,
   "id": "27970c30",
   "metadata": {},
   "outputs": [],
   "source": []
  },
  {
   "cell_type": "markdown",
   "id": "300f8814-8fc8-4a82-9d74-36e254ad0930",
   "metadata": {},
   "source": [
    "### Exercise\n",
    "1. Can you create a list of squared number from $1^2$ to $10^2$?\n",
    "2. Create a dictionary with key as `grocer` and value as `prices` as shown below:\n",
    "```\n",
    "grocer = ['bread', 'milk', 'egg', 'vegetables', 'fish']\n",
    "prices = [4., 5.2, 4.2, 8.5, 20.6]\n",
    "```"
   ]
  },
  {
   "cell_type": "code",
   "execution_count": 12,
   "id": "4c57c196",
   "metadata": {},
   "outputs": [
    {
     "data": {
      "text/plain": [
       "[1, 4, 9, 16, 25, 36, 49, 64, 81, 100]"
      ]
     },
     "execution_count": 12,
     "metadata": {},
     "output_type": "execute_result"
    }
   ],
   "source": [
    "squared_list=[i*i for i in range (1,11)]\n",
    "squared_list"
   ]
  },
  {
   "cell_type": "code",
   "execution_count": 13,
   "id": "50dc7319",
   "metadata": {},
   "outputs": [
    {
     "name": "stdout",
     "output_type": "stream",
     "text": [
      "[1, 4, 9, 16, 25, 36, 49, 64, 81, 100]\n"
     ]
    }
   ],
   "source": [
    "squarelist=[]\n",
    "\n",
    "def squarefunc(x):\n",
    "    return(x**2)\n",
    "\n",
    "for x in range (1,11):\n",
    "    squarelist.append(squarefunc(x))\n",
    "    #squarelist.append(i*i)\n",
    "    \n",
    "print(squarelist)\n"
   ]
  },
  {
   "cell_type": "code",
   "execution_count": 14,
   "id": "7ab538c6",
   "metadata": {},
   "outputs": [
    {
     "data": {
      "text/plain": [
       "{'bread': 4.0, 'milk': 5.2, 'egg': 4.2, 'vegetables': 8.5, 'fish': 20.6}"
      ]
     },
     "execution_count": 14,
     "metadata": {},
     "output_type": "execute_result"
    }
   ],
   "source": [
    "grocer = ['bread', 'milk', 'egg', 'vegetables', 'fish']\n",
    "prices = [4., 5.2, 4.2, 8.5, 20.6]\n",
    "\n",
    "grocer_prices={}\n",
    "\n",
    "for k,v in zip(grocer,prices):\n",
    "    grocer_prices[k]=v\n",
    "    \n",
    "grocer_prices"
   ]
  },
  {
   "cell_type": "code",
   "execution_count": 15,
   "id": "b6715f8a",
   "metadata": {},
   "outputs": [
    {
     "name": "stdout",
     "output_type": "stream",
     "text": [
      "dict_items([('bread', 4.0), ('milk', 5.2), ('egg', 4.2), ('vegetables', 8.5), ('fish', 20.6)])\n"
     ]
    }
   ],
   "source": [
    "grocery={\n",
    "    \"bread\":4.0,\n",
    "    \"milk\":5.2,\n",
    "    \"egg\":4.2,\n",
    "    \"vegetables\":8.5,\n",
    "    \"fish\":20.6\n",
    "}\n",
    "\n",
    "print(grocery.items())"
   ]
  },
  {
   "cell_type": "markdown",
   "id": "529a1202-c333-4c22-83df-b729a5f5dc74",
   "metadata": {},
   "source": [
    "## Custom function"
   ]
  },
  {
   "cell_type": "code",
   "execution_count": 16,
   "id": "4c88c49c",
   "metadata": {},
   "outputs": [],
   "source": [
    "def odd_even(x):\n",
    "    \"\"\"Check whether x is an odd or even integer.\n",
    "    Argument:\n",
    "    ___\n",
    "    x:must be an integer\n",
    "    \n",
    "    Retuns:\n",
    "    ___\n",
    "    statement that staes whether x is an odd or even integer\"\"\"\n",
    "    if isinstance(x,int):\n",
    "        if(x%2==0) and (x !=0):\n",
    "            print(f\"{x} is an even integer.\")\n",
    "        elif x%2 == 1:\n",
    "            print(f\"{x} is an odd integer.\")\n",
    "        elif x==0:\n",
    "            print(f\"{x} is neither odd nor even.\")\n",
    "    else:\n",
    "        print(f\"{x} is not an integer.\")\n",
    "        \n",
    "        "
   ]
  },
  {
   "cell_type": "code",
   "execution_count": 17,
   "id": "4dcf8cff",
   "metadata": {},
   "outputs": [
    {
     "name": "stdout",
     "output_type": "stream",
     "text": [
      "0 is neither odd nor even.\n"
     ]
    }
   ],
   "source": [
    "odd_even(0)"
   ]
  },
  {
   "cell_type": "code",
   "execution_count": 18,
   "id": "59b9390c",
   "metadata": {},
   "outputs": [
    {
     "name": "stdout",
     "output_type": "stream",
     "text": [
      "class is not an integer.\n"
     ]
    }
   ],
   "source": [
    "odd_even(\"class\")"
   ]
  },
  {
   "cell_type": "code",
   "execution_count": 19,
   "id": "ee0a3e44-4ea4-4ee4-81d8-930e7159510d",
   "metadata": {},
   "outputs": [],
   "source": [
    "def simple_add(x, y):\n",
    "    # It is a good practice to include docstring\n",
    "    \"\"\"Function to add 2 numbers:\n",
    "    Parameters:\n",
    "    x & y: must be numbers\n",
    "    \n",
    "    Returns:\n",
    "    result of addition\"\"\"\n",
    "    return (x + y)"
   ]
  },
  {
   "cell_type": "code",
   "execution_count": 20,
   "id": "0bbd7fe1-336e-4f0a-9a17-643d991c5530",
   "metadata": {},
   "outputs": [
    {
     "data": {
      "text/plain": [
       "12"
      ]
     },
     "execution_count": 20,
     "metadata": {},
     "output_type": "execute_result"
    }
   ],
   "source": [
    "simple_add(2, 10)"
   ]
  },
  {
   "cell_type": "markdown",
   "id": "f7b77111-f01e-4bfb-94b9-204c05f9b987",
   "metadata": {},
   "source": [
    "But the above function is not robust, since it will invoke error if user provide non-numeric arguments."
   ]
  },
  {
   "cell_type": "code",
   "execution_count": 21,
   "id": "8e82dadc-8512-4988-a3ff-8cdea0ea7560",
   "metadata": {},
   "outputs": [],
   "source": [
    "import numbers\n",
    "\n",
    "def simple_add(x, y):\n",
    "    \"\"\"Function to add 2 numbers:\n",
    "    Parameters:\n",
    "    x & y: must be numbers\n",
    "    \n",
    "    Returns:\n",
    "    result of addition\"\"\"\n",
    "\n",
    "    if isinstance(x, numbers.Number) and isinstance(y, numbers.Number):\n",
    "        return x + y\n",
    "    else:\n",
    "        print(\"Invalid input argument\")"
   ]
  },
  {
   "cell_type": "code",
   "execution_count": 22,
   "id": "43ceea52-a888-413b-8d83-253123f10bb2",
   "metadata": {},
   "outputs": [
    {
     "data": {
      "text/plain": [
       "10"
      ]
     },
     "execution_count": 22,
     "metadata": {},
     "output_type": "execute_result"
    }
   ],
   "source": [
    "simple_add(20, -10)"
   ]
  },
  {
   "cell_type": "code",
   "execution_count": 23,
   "id": "b424b728-dd0a-4b8b-9bec-ceb3b6606794",
   "metadata": {},
   "outputs": [
    {
     "name": "stdout",
     "output_type": "stream",
     "text": [
      "Invalid input argument\n"
     ]
    }
   ],
   "source": [
    "simple_add(7, \"a\")"
   ]
  },
  {
   "cell_type": "markdown",
   "id": "9a7e8bb6-0e23-4398-bd2f-40754414cb02",
   "metadata": {},
   "source": [
    "Another way to control Exception: use `try` and `except` blocks"
   ]
  },
  {
   "cell_type": "code",
   "execution_count": 24,
   "id": "67967ecb-55d3-43d1-abfd-6e510a30577f",
   "metadata": {},
   "outputs": [],
   "source": [
    "def simple_add(x, y):\n",
    "    \"\"\"Function to add 2 numbers:\n",
    "    Parameters:\n",
    "    x & y: must be numbers\n",
    "    \n",
    "    Returns:\n",
    "    result of addition\"\"\"\n",
    "    try:\n",
    "        return x + y\n",
    "    except Exception as e:\n",
    "        print(e)"
   ]
  },
  {
   "cell_type": "code",
   "execution_count": 25,
   "id": "525aac03-9071-43c7-b466-b801fb60c2f0",
   "metadata": {},
   "outputs": [
    {
     "name": "stdout",
     "output_type": "stream",
     "text": [
      "unsupported operand type(s) for +: 'int' and 'str'\n"
     ]
    }
   ],
   "source": [
    "simple_add(7, \"a\")"
   ]
  },
  {
   "cell_type": "markdown",
   "id": "0c60910d",
   "metadata": {},
   "source": [
    "## Numpy module\n",
    "Numpy is a Python module used for working with arrays. Numpy provides array object that is faster than Python lists. This is due to locality of reference. NumPy arrays are stored at one continuous place in memory unlike lists, so processes can access and manipulate them very efficiently. "
   ]
  },
  {
   "cell_type": "code",
   "execution_count": 26,
   "id": "82423681",
   "metadata": {},
   "outputs": [],
   "source": [
    "import numpy as np"
   ]
  },
  {
   "cell_type": "markdown",
   "id": "5c3a0a88",
   "metadata": {},
   "source": [
    "### Create Numpy array"
   ]
  },
  {
   "cell_type": "code",
   "execution_count": 27,
   "id": "25f37868",
   "metadata": {},
   "outputs": [
    {
     "name": "stdout",
     "output_type": "stream",
     "text": [
      "[1 2 3 4 5]\n",
      "<class 'numpy.ndarray'>\n"
     ]
    }
   ],
   "source": [
    "x = np.array([1, 2, 3, 4, 5]) #vector, 1D array\n",
    "print(x)\n",
    "print(type(x))"
   ]
  },
  {
   "cell_type": "code",
   "execution_count": 28,
   "id": "573efc4e",
   "metadata": {},
   "outputs": [
    {
     "name": "stdout",
     "output_type": "stream",
     "text": [
      "(5,)\n",
      "int32\n",
      "<class 'numpy.ndarray'>\n"
     ]
    }
   ],
   "source": [
    "print(x.shape) #five rows\n",
    "print(x.dtype) #content type\n",
    "print(type(x)) #stored in what"
   ]
  },
  {
   "cell_type": "code",
   "execution_count": 29,
   "id": "b9bb0988",
   "metadata": {},
   "outputs": [
    {
     "data": {
      "text/plain": [
       "array([ 6,  7,  8,  9, 10])"
      ]
     },
     "execution_count": 29,
     "metadata": {},
     "output_type": "execute_result"
    }
   ],
   "source": [
    "b= np.arange(6,11)\n",
    "b"
   ]
  },
  {
   "cell_type": "code",
   "execution_count": 30,
   "id": "66b8a900",
   "metadata": {},
   "outputs": [
    {
     "name": "stdout",
     "output_type": "stream",
     "text": [
      "(5,)\n",
      "True\n"
     ]
    }
   ],
   "source": [
    "print(b.shape)\n",
    "print (len(x)==len(b))"
   ]
  },
  {
   "cell_type": "code",
   "execution_count": 31,
   "id": "993e0f99",
   "metadata": {},
   "outputs": [
    {
     "data": {
      "text/plain": [
       "array([[ 1,  2,  3,  4,  5],\n",
       "       [ 6,  7,  8,  9, 10]])"
      ]
     },
     "execution_count": 31,
     "metadata": {},
     "output_type": "execute_result"
    }
   ],
   "source": [
    "\n",
    "x=x.reshape(1,-1)\n",
    "b=b.reshape(1,-1)\n",
    "xb=np.concatenate((x,b), axis=0)\n",
    "xb"
   ]
  },
  {
   "cell_type": "markdown",
   "id": "58472cda",
   "metadata": {},
   "source": [
    "### Array indexing"
   ]
  },
  {
   "cell_type": "code",
   "execution_count": 32,
   "id": "84e2c63b",
   "metadata": {},
   "outputs": [
    {
     "name": "stdout",
     "output_type": "stream",
     "text": [
      "[1 2 3 4 5]\n",
      "[1 2 3 4 5]\n"
     ]
    }
   ],
   "source": [
    "# Lets access the first and last element of x\n",
    "print(x[0])\n",
    "print(x[-1])"
   ]
  },
  {
   "cell_type": "code",
   "execution_count": 33,
   "id": "6e6ddf91",
   "metadata": {},
   "outputs": [
    {
     "name": "stdout",
     "output_type": "stream",
     "text": [
      "[ 1  2  3  4  5  6  7  8  9 10]\n"
     ]
    }
   ],
   "source": [
    "x1 = np.array([6, 7, 8, 9, 10])\n",
    "x_long = np.concatenate((x, x1), axis=None)\n",
    "print(x_long)"
   ]
  },
  {
   "cell_type": "markdown",
   "id": "1980dfd2",
   "metadata": {},
   "source": [
    "A `numpy.ndarray` is a generic multidimensional container for homogeneous data, i.e. all the elements must be of the same data type. Every array has a **shape**, which is expressed as tuple, indicating the size of each dimension as well as a **dtype**, an object describing the data type of the array."
   ]
  },
  {
   "cell_type": "code",
   "execution_count": 34,
   "id": "9b152e47",
   "metadata": {},
   "outputs": [
    {
     "name": "stdout",
     "output_type": "stream",
     "text": [
      "The shape of variable x_long: (10,)\n",
      "int32\n"
     ]
    }
   ],
   "source": [
    "print(f\"The shape of variable x_long: {x_long.shape}\")\n",
    "print(x_long.dtype)"
   ]
  },
  {
   "cell_type": "markdown",
   "id": "7e2449b5-2e09-4ae2-9e7f-1bc5cd3f01df",
   "metadata": {},
   "source": [
    "## Exercise\n",
    "1. Replace all the negative values in the list with zero.\n",
    "```\n",
    "ratings = [5, 2, 1, -1, 5, 3, 4, -1, 4]\n",
    "```"
   ]
  },
  {
   "cell_type": "markdown",
   "id": "a8c620e3",
   "metadata": {},
   "source": [
    "## Custom image using Numpy\n",
    "Now that you have some basic understanding of the data structure of digital image, lets try to create a custom image with the help of Numpy library. "
   ]
  },
  {
   "cell_type": "code",
   "execution_count": 35,
   "id": "331f3176",
   "metadata": {},
   "outputs": [],
   "source": [
    "import matplotlib.pyplot as plt"
   ]
  },
  {
   "cell_type": "markdown",
   "id": "60d38354",
   "metadata": {},
   "source": [
    "# Black image (2D array)\n",
    "unit8 bit depth spans from [0,255]"
   ]
  },
  {
   "cell_type": "code",
   "execution_count": 36,
   "id": "dddb9eec",
   "metadata": {},
   "outputs": [
    {
     "data": {
      "image/png": "[encoded data removed]",
      "text/plain": [
       "<Figure size 640x480 with 1 Axes>"
      ]
     },
     "metadata": {},
     "output_type": "display_data"
    }
   ],
   "source": [
    "black = np.zeros((200, 200), dtype=\"uint8\")\n",
    "\n",
    "plt.imshow(black, cmap=\"gray\", vmin=0,vmax=255)\n",
    "plt.title(\"shit\")\n",
    "plt.show()"
   ]
  },
  {
   "cell_type": "code",
   "execution_count": 37,
   "id": "254c171d",
   "metadata": {},
   "outputs": [
    {
     "data": {
      "image/png": "[encoded data removed]",
      "text/plain": [
       "<Figure size 640x480 with 1 Axes>"
      ]
     },
     "metadata": {},
     "output_type": "display_data"
    }
   ],
   "source": [
    "white = np.ones((200, 200), dtype=\"uint8\")*255\n",
    "\n",
    "plt.imshow(white, cmap=\"gray\", vmin=0,vmax=255)\n",
    "plt.title(\"shit2\")\n",
    "plt.show()"
   ]
  },
  {
   "cell_type": "code",
   "execution_count": 38,
   "id": "f696dbde",
   "metadata": {},
   "outputs": [
    {
     "data": {
      "image/png": "[encoded data removed]",
      "text/plain": [
       "<Figure size 640x480 with 1 Axes>"
      ]
     },
     "metadata": {},
     "output_type": "display_data"
    }
   ],
   "source": [
    "# Create a dark grayscale image (2D array)\n",
    "gray = np.zeros((200, 200), dtype=\"uint8\")\n",
    "\n",
    "plt.imshow(gray, cmap = plt.cm.gray)\n",
    "plt.title(\"grayscale black image\")\n",
    "plt.xticks([]), plt.yticks([])\n",
    "plt.show()"
   ]
  },
  {
   "cell_type": "code",
   "execution_count": 39,
   "id": "866c2803",
   "metadata": {},
   "outputs": [
    {
     "data": {
      "image/png": "[encoded data removed]",
      "text/plain": [
       "<Figure size 640x480 with 1 Axes>"
      ]
     },
     "metadata": {},
     "output_type": "display_data"
    }
   ],
   "source": [
    "white = 255 * np.ones((200, 200))\n",
    "white = np.uint8(white)\n",
    "\n",
    "plt.imshow(white, cmap = plt.cm.gray, vmin=0, vmax=255)\n",
    "plt.title(\"grayscale white image\")\n",
    "plt.xticks([]), plt.yticks([])\n",
    "plt.show()"
   ]
  },
  {
   "cell_type": "markdown",
   "id": "2899fd2e",
   "metadata": {},
   "source": [
    "# color image (3D array)\n",
    "shape(w,h,3)"
   ]
  },
  {
   "cell_type": "code",
   "execution_count": 40,
   "id": "ee3928b1",
   "metadata": {},
   "outputs": [
    {
     "data": {
      "image/png": "[encoded data removed]",
      "text/plain": [
       "<Figure size 640x480 with 1 Axes>"
      ]
     },
     "metadata": {},
     "output_type": "display_data"
    }
   ],
   "source": [
    "rng = np.random.default_rng()\n",
    "random_color_img=rng.integers(0,high=256,size=(100,100,3),dtype=np.uint8)\n",
    "\n",
    "plt.imshow(random_color_img)\n",
    "plt.title(\"third shit\")\n",
    "plt.show()"
   ]
  },
  {
   "cell_type": "code",
   "execution_count": 41,
   "id": "ca1c5716",
   "metadata": {},
   "outputs": [
    {
     "data": {
      "image/png": "[encoded data removed]",
      "text/plain": [
       "<Figure size 640x480 with 1 Axes>"
      ]
     },
     "metadata": {},
     "output_type": "display_data"
    }
   ],
   "source": [
    "# Next, lets create random color image\n",
    "noise_color_img = np.random.randint(0, high=256, size = (100, 100, 3), dtype=np.uint8)\n",
    "\n",
    "plt.imshow(noise_color_img)\n",
    "plt.title(\"random noise color image\")\n",
    "plt.xticks([]), plt.yticks([])\n",
    "plt.show()"
   ]
  },
  {
   "attachments": {
    "5d4026b2-6b16-4515-8e03-3065096fa0e8.png": {
     "image/png": "[encoded data removed]"
    }
   },
   "cell_type": "markdown",
   "id": "7fe7b83f",
   "metadata": {},
   "source": [
    "## Exercises\n",
    "1. Find the range of values for each of the following data types:\n",
    "    * `uint8`\n",
    "    * `int8`\n",
    "    * `uint32`\n",
    "    * `int32`\n",
    "2. Try to write a simple custom function to determine whether a given integer is odd or even number.\n",
    "3. Write a simple example code to show that Numpy is more efficient in numerical computation of large arrays of data than equivalent Python list.\n",
    "4. Run the following codes:\n",
    "```python\n",
    "    # create a 1D array\n",
    "    my_arr = np.arange(10)\n",
    "    print(\"Initial my_arr: \", my_arr)\n",
    "    arr_slice = my_arr\n",
    "    print(\"Initial arr_slice: \", arr_slice)\n",
    "\n",
    "    # change the first element of arr_slice\n",
    "    arr_slice[0] = 55\n",
    "\n",
    "    print(\"my_arr: \", my_arr)\n",
    "    print(\"arr_slice: \", arr_slice)\n",
    "```\n",
    "\n",
    "What do you notice? Propose a way to reassign `arr_slice` with new value **without modifying** `my_arr`.\n",
    "\n",
    "5. Create an image as shown as the following with the help of Numpy and matplotlib modules. You can arbitrarily set the dimension of the image and white circular spot at the middle.\n",
    "\n",
    "![image.png](attachment:5d4026b2-6b16-4515-8e03-3065096fa0e8.png)"
   ]
  },
  {
   "cell_type": "code",
   "execution_count": 3,
   "id": "a9a4af50-649b-4b5c-98b8-14e54f1b603f",
   "metadata": {},
   "outputs": [
    {
     "name": "stdout",
     "output_type": "stream",
     "text": [
      "uint8 range: 0 to 255\n",
      "int8 range: -128 to 127\n",
      "uint32 range: 0 to 4294967295\n",
      "int32 range: -2147483648 to 2147483647\n"
     ]
    }
   ],
   "source": [
    "#Q1\n",
    "# List of data types\n",
    "data_types = [np.uint8, np.int8, np.uint32, np.int32]\n",
    "\n",
    "# Print ranges for each data type\n",
    "for dtype in data_types:\n",
    "    info = np.iinfo(dtype)\n",
    "    print(f\"{dtype.__name__} range: {info.min} to {info.max}\")\n"
   ]
  },
  {
   "cell_type": "code",
   "execution_count": 5,
   "id": "ffc34e61-8126-4bc6-9a36-52db5811e094",
   "metadata": {},
   "outputs": [
    {
     "name": "stdout",
     "output_type": "stream",
     "text": [
      "This is zero.\n",
      "This is an odd number.\n",
      "This is an odd number.\n",
      "Input is not an integer.\n",
      "Input is not an integer.\n"
     ]
    }
   ],
   "source": [
    "#Q2\n",
    "def check_number_type(num):\n",
    "    \"\"\"Function to check whether the number is even, odd, or zero.\"\"\"\n",
    "    if isinstance(num, int):\n",
    "        if num == 0:\n",
    "            return \"This is zero.\"\n",
    "        elif num % 2 == 0:\n",
    "            return \"This is an even number.\"\n",
    "        else:\n",
    "            return \"This is an odd number.\"\n",
    "    else:\n",
    "        return \"Input is not an integer.\"\n",
    "\n",
    "print(check_number_type(0))\n",
    "print(check_number_type(1))\n",
    "print(check_number_type(3))\n",
    "print(check_number_type(3.5))\n",
    "print(check_number_type(-3.5))"
   ]
  },
  {
   "cell_type": "code",
   "execution_count": 44,
   "id": "0a7869fe",
   "metadata": {},
   "outputs": [
    {
     "name": "stdout",
     "output_type": "stream",
     "text": [
      "Sum using Python list: 1249975000\n",
      "Time taken with Python list: 0.002000 seconds\n",
      "\n",
      "Sum using NumPy array: 1249975000\n",
      "Time taken with NumPy array: 0.000000 seconds\n"
     ]
    }
   ],
   "source": [
    "#Q3-1\n",
    "import time\n",
    "import numpy as np\n",
    "\n",
    "size = 50000\n",
    "python_list = range(size)\n",
    "numpy_array = np.arange(size)\n",
    "\n",
    "start_time = time.time()\n",
    "sum_python_list = sum(python_list)\n",
    "python_list_time = time.time() - start_time\n",
    "print(f\"Sum using Python list: {sum_python_list}\")\n",
    "print(f\"Time taken with Python list: {python_list_time:.6f} seconds\")\n",
    "\n",
    "\n",
    "start_time = time.time()\n",
    "sum_numpy_array = np.sum(numpy_array)\n",
    "numpy_array_time = time.time() - start_time\n",
    "print(f\"\\nSum using NumPy array: {sum_numpy_array}\")\n",
    "print(f\"Time taken with NumPy array: {numpy_array_time:.6f} seconds\")"
   ]
  },
  {
   "cell_type": "code",
   "execution_count": 6,
   "id": "ea19b76a-3086-47ed-8107-eafdcd67b797",
   "metadata": {},
   "outputs": [
    {
     "name": "stdout",
     "output_type": "stream",
     "text": [
      "Python list computation duration: 0.947896 seconds\n",
      "NumPy array computation duration: 0.031940 seconds\n"
     ]
    }
   ],
   "source": [
    "#Q3-2\n",
    "import numpy as np\n",
    "import timeit\n",
    "\n",
    "# Define the size of the array\n",
    "size = 10**6\n",
    "\n",
    "# Timing the Python list computation\n",
    "python_time = timeit.timeit(\"[i*2 for i in list(range(size))]\", globals=globals(), number=10)\n",
    "print(f\"Python list computation duration: {python_time:.6f} seconds\")\n",
    "\n",
    "# Timing the NumPy array computation\n",
    "numpy_time = timeit.timeit(\"2 * np.arange(size)\", globals=globals(), number=10)\n",
    "print(f\"NumPy array computation duration: {numpy_time:.6f} seconds\")\n"
   ]
  },
  {
   "cell_type": "code",
   "execution_count": 45,
   "id": "1d227ae7",
   "metadata": {},
   "outputs": [
    {
     "name": "stdout",
     "output_type": "stream",
     "text": [
      "Initial my_arr:  [0 1 2 3 4 5 6 7 8 9]\n",
      "Initial arr_slice:  [0 1 2 3 4 5 6 7 8 9]\n",
      "my_arr:  [55  1  2  3  4  5  6  7  8  9]\n",
      "arr_slice:  [55  1  2  3  4  5  6  7  8  9]\n",
      "Initial arr_slice2: [55  1  2  3  4  5  6  7  8  9]\n",
      "my_arr:  [55  1  2  3  4  5  6  7  8  9]\n",
      "arr_slice2:  [5 1 2 3 4 5 6 7 8 9]\n"
     ]
    }
   ],
   "source": [
    "#Q4-1\n",
    "import numpy as np\n",
    " # create a 1D array\n",
    "my_arr = np.arange(10)\n",
    "print(\"Initial my_arr: \", my_arr)\n",
    "arr_slice = my_arr\n",
    "print(\"Initial arr_slice: \", arr_slice)\n",
    "\n",
    "# change the first element of arr_slice\n",
    "arr_slice[0] = 55\n",
    "\n",
    "print(\"my_arr: \", my_arr)\n",
    "print(\"arr_slice: \", arr_slice)\n",
    "\n",
    "arr_slice2 = np.copy(my_arr)\n",
    "print(\"Initial arr_slice2:\", arr_slice2)\n",
    "\n",
    "arr_slice2[0] = 5\n",
    "\n",
    "print(\"my_arr: \", my_arr)\n",
    "print(\"arr_slice2: \", arr_slice2)"
   ]
  },
  {
   "cell_type": "code",
   "execution_count": 13,
   "id": "3fce3ad9-0729-4724-b685-ddcf91645790",
   "metadata": {},
   "outputs": [
    {
     "name": "stdout",
     "output_type": "stream",
     "text": [
      "Initial my_arr:  [0 1 2 3 4 5 6 7 8 9]\n",
      "Initial arr_slice:  [0 1 2 3 4 5 6 7 8 9]\n",
      "my_arr:  [55  1  2  3  4  5  6  7  8  9]\n",
      "arr_slice:  [55  1  2  3  4  5  6  7  8  9]\n"
     ]
    }
   ],
   "source": [
    "#Q4-2\n",
    "import numpy as np\n",
    "\n",
    "# create a 1D array\n",
    "my_arr = np.arange(10)\n",
    "print(\"Initial my_arr: \", my_arr)\n",
    "arr_slice = my_arr\n",
    "print(\"Initial arr_slice: \", arr_slice)\n",
    "\n",
    "# change the first element of arr_slice\n",
    "arr_slice[0] = 55\n",
    "\n",
    "print(\"my_arr: \", my_arr)\n",
    "print(\"arr_slice: \", arr_slice)\n"
   ]
  },
  {
   "cell_type": "code",
   "execution_count": 8,
   "id": "db01bf77",
   "metadata": {},
   "outputs": [
    {
     "name": "stdout",
     "output_type": "stream",
     "text": [
      "Requirement already satisfied: opencv-python in d:\\myanaconda\\lib\\site-packages (4.10.0.84)\n",
      "Requirement already satisfied: numpy>=1.21.2 in d:\\myanaconda\\lib\\site-packages (from opencv-python) (1.26.4)\n"
     ]
    }
   ],
   "source": [
    "#Q5-1\n",
    "!pip install opencv-python"
   ]
  },
  {
   "cell_type": "code",
   "execution_count": 48,
   "id": "1db4895b",
   "metadata": {},
   "outputs": [
    {
     "data": {
      "image/png": "[encoded data removed]",
      "text/plain": [
       "<Figure size 640x480 with 1 Axes>"
      ]
     },
     "metadata": {},
     "output_type": "display_data"
    }
   ],
   "source": [
    "import matplotlib.pyplot as plt\n",
    "import cv2\n",
    "gray = np.zeros((200, 200), dtype=\"uint8\")\n",
    "\n",
    "center_coordinates = (100, 100)  # Center of the image\n",
    "radius = 25  # Radius of the circle\n",
    "color = 255  # White color in grayscale\n",
    "thickness = -1 \n",
    "cv2.circle(gray, center_coordinates, radius, color, thickness)\n",
    "\n",
    "plt.imshow(gray, cmap = plt.cm.gray)\n",
    "plt.title(\"White Spot\")\n",
    "plt.xticks([]), plt.yticks([])\n",
    "plt.show()"
   ]
  },
  {
   "cell_type": "code",
   "execution_count": 12,
   "id": "547b0156-e721-4ade-b7d9-83807a2057dd",
   "metadata": {},
   "outputs": [
    {
     "data": {
      "image/png": "[encoded data removed]",
      "text/plain": [
       "<Figure size 640x480 with 1 Axes>"
      ]
     },
     "metadata": {},
     "output_type": "display_data"
    }
   ],
   "source": [
    "#Q5-2\n",
    "import matplotlib.pyplot as plt\n",
    "import numpy as np\n",
    "\n",
    "# Create a black background image\n",
    "size = 200  # Image size\n",
    "gray = np.zeros((size, size), dtype=np.uint8)\n",
    "\n",
    "# Draw a white circle in the middle\n",
    "center_coordinates = (size // 2, size // 2)  # Center of the image\n",
    "radius = size // 10  # Radius of the circle\n",
    "color = 255  # White color in grayscale\n",
    "thickness = -1  # Fill the circle\n",
    "cv2.circle(gray, center_coordinates, radius, color, thickness)\n",
    "\n",
    "# Display the image using matplotlib\n",
    "plt.imshow(gray, cmap='gray')\n",
    "plt.title(\"White Spot in the Middle\")\n",
    "plt.axis('off')  # Hide axes\n",
    "plt.show()\n"
   ]
  },
  {
   "cell_type": "code",
   "execution_count": null,
   "id": "80d83afe-d77f-4039-a225-05dec3d956ff",
   "metadata": {},
   "outputs": [],
   "source": []
  }
 ],
 "metadata": {
  "kernelspec": {
   "display_name": "Python 3 (ipykernel)",
   "language": "python",
   "name": "python3"
  },
  "language_info": {
   "codemirror_mode": {
    "name": "ipython",
    "version": 3
   },
   "file_extension": ".py",
   "mimetype": "text/x-python",
   "name": "python",
   "nbconvert_exporter": "python",
   "pygments_lexer": "ipython3",
   "version": "3.11.7"
  }
 },
 "nbformat": 4,
 "nbformat_minor": 5
}
